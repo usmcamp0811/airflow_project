{
 "cells": [
  {
   "cell_type": "code",
   "execution_count": 2,
   "metadata": {
    "collapsed": true,
    "tags": [
     "parameters"
    ]
   },
   "outputs": [],
   "source": [
    "sleeping_time = 0\n",
    "task1 = 999"
   ]
  },
  {
   "cell_type": "code",
   "execution_count": 5,
   "metadata": {
    "collapsed": true
   },
   "outputs": [],
   "source": [
    "import time\n",
    "from result_saver import ResultSaver"
   ]
  },
  {
   "cell_type": "code",
   "execution_count": 6,
   "metadata": {},
   "outputs": [
    {
     "name": "stdout",
     "output_type": "stream",
     "text": [
      "I have been instructed to sleep for 0\n"
     ]
    }
   ],
   "source": [
    "print(f'I have been instructed to sleep for {sleeping_time}')\n",
    "time.sleep(sleeping_time)"
   ]
  },
  {
   "cell_type": "code",
   "execution_count": 7,
   "metadata": {},
   "outputs": [
    {
     "name": "stdout",
     "output_type": "stream",
     "text": [
      "Good morning.\n"
     ]
    }
   ],
   "source": [
    "print('Good morning.')"
   ]
  },
  {
   "cell_type": "code",
   "execution_count": 9,
   "metadata": {},
   "outputs": [
    {
     "name": "stdout",
     "output_type": "stream",
     "text": [
      "We did it!\n",
      "Saving result to /tmp/result.json\n",
      "Successfully saved tgz file.\n"
     ]
    }
   ],
   "source": [
    "def task1_out_time_three(task1):\n",
    "    return task1 * 3\n",
    "\n",
    "result = {\n",
    "    'sleeping_time': sleeping_time,\n",
    "    'i_did_it': True\n",
    "    'task1_out_times_three': task1_out_time_three(task1)\n",
    "}\n",
    "print(\"We did it!\")\n",
    "ResultSaver().save_result(result)"
   ]
  }
 ],
 "metadata": {
  "celltoolbar": "Tags",
  "kernelspec": {
   "display_name": "Python 3",
   "language": "python",
   "name": "python3"
  },
  "language_info": {
   "codemirror_mode": {
    "name": "ipython",
    "version": 3
   },
   "file_extension": ".py",
   "mimetype": "text/x-python",
   "name": "python",
   "nbconvert_exporter": "python",
   "pygments_lexer": "ipython3",
   "version": "3.6.8"
  }
 },
 "nbformat": 4,
 "nbformat_minor": 2
}
